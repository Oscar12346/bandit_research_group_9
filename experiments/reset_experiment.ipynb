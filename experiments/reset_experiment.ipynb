{
 "cells": [
  {
   "cell_type": "code",
   "execution_count": 1,
   "id": "cd1a8f22-6238-4204-bd12-8cb5fa8d2c78",
   "metadata": {},
   "outputs": [],
   "source": [
    "import sys\n",
    "import numpy as np\n",
    "\n",
    "sys.path.insert(0, \"..\")\n",
    "\n",
    "# Agents\n",
    "from src.agents.robust_lin_exp3 import RobustLinExp3Agent\n",
    "\n",
    "# Adversaries\n",
    "from src.adversaries.adversary import Adversary\n",
    "from src.adversaries.stochastic_linear_adversary import StochasticLinearAdversary\n",
    "\n",
    "# Contexts\n",
    "from src.contexts.context import Context\n",
    "from src.contexts.gaussian_context import GaussianContext\n",
    "\n",
    "# Environments\n",
    "from src.environments.environment import Environment\n",
    "from src.environments.adversarial_contextual_env import AdversarialContextualEnv\n",
    "\n",
    "# Adversarial Contextual MAB bandits\n",
    "from src.adversarial_contextual_mab import AdversarialContextualMAB\n",
    "\n",
    "# Display\n",
    "from src.display.visualization import Visualization as vis"
   ]
  },
  {
   "cell_type": "code",
   "execution_count": 7,
   "id": "287e3a62-fdea-43a9-96ac-1a9249f8b31b",
   "metadata": {},
   "outputs": [],
   "source": [
    "# Init Vars\n",
    "K = 10\n",
    "h = 10000\n",
    "epsilon = 0.0\n",
    "\n",
    "# Init Context\n",
    "num_ctx = 5\n",
    "d = 3\n",
    "ctx = GaussianContext(n_contexts=num_ctx, n_features=d, var=0.1)\n",
    "\n",
    "# Init Agent\n",
    "name = \"RobustLinExp3\"\n",
    "lr = h**(-2/3)*(K*d)**(-1/3)*np.log(K)**(2/3)\n",
    "exploration_rate = h**(-1/3)*(K*d*np.log(K))**(1/3)\n",
    "sigma = ctx.estimate_sigma(n_samples=10000)\n",
    "ag = RobustLinExp3Agent(name=name, K=K, d=d, sigma=sigma, eta=lr, gamma=exploration_rate, epsilon=epsilon) \n",
    "\n",
    "# Calculate upper bound\n",
    "bound_per_timestep = np.array([ag.compute_regret_bound(t) for t in range(h)])"
   ]
  },
  {
   "cell_type": "markdown",
   "id": "f98e7ad6-63b1-4c07-a8bc-ee832042fe7c",
   "metadata": {},
   "source": [
    "## StochasticLinearAdversary reset steps experiment"
   ]
  },
  {
   "cell_type": "code",
   "execution_count": null,
   "id": "7869415a-26a5-430b-a6ee-660be03b1b65",
   "metadata": {},
   "outputs": [],
   "source": [
    "# Init Adversary\n",
    "noise_mean = epsilon\n",
    "noise_std = 0.0\n",
    "reset_steps = [-1, 1, 5, 10, 50]\n",
    "\n",
    "# Get fixed theta\n",
    "theta = np.random.randn(K, d)\n",
    "theta /= np.maximum(np.linalg.norm(theta, axis=1, keepdims=True), 1.0) \n",
    "\n",
    "data_labels = []\n",
    "cumulative_regrets = []\n",
    "for reset_step in reset_steps:\n",
    "    \n",
    "    adv = StochasticLinearAdversary(\n",
    "        num_actions=K, \n",
    "        context_dim=d, \n",
    "        noise_mean=noise_mean, \n",
    "        noise_std=noise_std, \n",
    "        reset_steps=reset_step, \n",
    "        theta=theta\n",
    "    )\n",
    "    \n",
    "    # Init Environment\n",
    "    adv_env = AdversarialContextualEnv(adversary=adv, context=ctx)\n",
    "    \n",
    "    # Play experiment\n",
    "    num_sim = 100\n",
    "    exp = AdversarialContextualMAB()\n",
    "    _, _, _, _, cumulative_regret, _ = exp.play(agent=ag, environment=adv_env, num_sim=num_sim, horizon=h)\n",
    "\n",
    "    # Append cumulative regret\n",
    "    cumulative_regrets.append(cumulative_regret)\n",
    "    data_labels.append(f\"Reset steps = {reset_step}\")"
   ]
  },
  {
   "cell_type": "code",
   "execution_count": null,
   "id": "182cc23b-5135-466b-a185-79c5a4acc532",
   "metadata": {},
   "outputs": [],
   "source": [
    "vis.plot_mean_std(\n",
    "    data=cumulative_regrets, \n",
    "    data_labels=data_labels,\n",
    "    title=f\"StochasticLinearAdversary with changing number of reset steps in {name}\", \n",
    "    xlabel=\"n_steps\", \n",
    "    ylabel=\"regrets\", \n",
    "    baseline=bound_per_timestep,\n",
    "    baseline_title=f\"{name} regret upper bound\"\n",
    ")"
   ]
  }
 ],
 "metadata": {
  "kernelspec": {
   "display_name": "Python 3 (ipykernel)",
   "language": "python",
   "name": "python3"
  },
  "language_info": {
   "codemirror_mode": {
    "name": "ipython",
    "version": 3
   },
   "file_extension": ".py",
   "mimetype": "text/x-python",
   "name": "python",
   "nbconvert_exporter": "python",
   "pygments_lexer": "ipython3",
   "version": "3.12.9"
  }
 },
 "nbformat": 4,
 "nbformat_minor": 5
}
