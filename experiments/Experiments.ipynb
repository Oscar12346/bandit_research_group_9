{
 "cells": [
  {
   "cell_type": "code",
   "execution_count": 3,
   "id": "cd1a8f22-6238-4204-bd12-8cb5fa8d2c78",
   "metadata": {},
   "outputs": [],
   "source": [
    "import sys\n",
    "\n",
    "sys.path.insert(0, \"..\")\n",
    "\n",
    "# Agents\n",
    "from src.agents.agent import Agent\n",
    "from src.agents.exp3 import Exp3\n",
    "\n",
    "# Adversaries\n",
    "from src.adversaries.adversary import Adversary\n",
    "from src.adversaries.deceptive_adversary import DeceptiveAdversary\n",
    "\n",
    "# Contexts\n",
    "from src.contexts.context import Context\n",
    "from src.contexts.gaussian_context import GaussianContext\n",
    "\n",
    "# Environments\n",
    "from src.environments.environment import Environment\n",
    "from src.environments.adversarial_mab_env import Adversarial_MAB_env, Random_Adversarial_MAB_env\n",
    "from src.environments.adversarial_contextual_env import AdversarialContextualEnv\n",
    "\n",
    "# Adversarial Contextual MAB bandits\n",
    "from src.adversarial_contextual_mab import AdversarialContextualMAB\n",
    "\n",
    "# Display\n",
    "from src.display.display import plot_result"
   ]
  },
  {
   "cell_type": "code",
   "execution_count": null,
   "id": "287e3a62-fdea-43a9-96ac-1a9249f8b31b",
   "metadata": {},
   "outputs": [],
   "source": [
    "# Init vars\n",
    "K = 10\n",
    "h = 1000\n",
    "num_sim = 100\n",
    "num_ctx = 5\n",
    "num_ftrs = 3\n",
    "\n",
    "# Init Adversary\n",
    "adv = DeceptiveAdversary(K=K)\n",
    "\n",
    "# Init Context\n",
    "ctx = GaussianContext(n_contexts=num_ctx, n_arms=K, n_features=num_ftrs)\n",
    "\n",
    "# Init Agent\n",
    "ag = \n",
    "\n",
    "# Init Environment\n",
    "adv_env = AdversarialContextualEnv(adversary=adv, context=ctx)\n",
    "\n",
    "# Init Experiment\n",
    "exp = AdversarialContextualMAB(agent=ag, environment=adv_env, num_sim=num_sim, horizon=h)"
   ]
  }
 ],
 "metadata": {
  "kernelspec": {
   "display_name": "Python 3 (ipykernel)",
   "language": "python",
   "name": "python3"
  },
  "language_info": {
   "codemirror_mode": {
    "name": "ipython",
    "version": 3
   },
   "file_extension": ".py",
   "mimetype": "text/x-python",
   "name": "python",
   "nbconvert_exporter": "python",
   "pygments_lexer": "ipython3",
   "version": "3.12.9"
  }
 },
 "nbformat": 4,
 "nbformat_minor": 5
}
