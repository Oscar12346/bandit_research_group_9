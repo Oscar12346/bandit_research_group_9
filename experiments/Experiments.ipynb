{
 "cells": [
  {
   "cell_type": "code",
   "execution_count": 1,
   "id": "cd1a8f22-6238-4204-bd12-8cb5fa8d2c78",
   "metadata": {},
   "outputs": [],
   "source": [
    "import sys\n",
    "\n",
    "sys.path.insert(0, \"..\")\n",
    "\n",
    "# Agents\n",
    "from src.agents.robust_lin_exp3 import RobustLinExp3Agent\n",
    "\n",
    "# Adversaries\n",
    "from src.adversaries.adversary import Adversary\n",
    "from src.adversaries.deceptive_adversary import DeceptiveAdversary\n",
    "\n",
    "# Contexts\n",
    "from src.contexts.context import Context\n",
    "from src.contexts.gaussian_context import GaussianContext\n",
    "\n",
    "# Environments\n",
    "from src.environments.environment import Environment\n",
    "from src.environments.adversarial_mab_env import Adversarial_MAB_env, Random_Adversarial_MAB_env\n",
    "from src.environments.adversarial_contextual_env import AdversarialContextualEnv\n",
    "\n",
    "# Adversarial Contextual MAB bandits\n",
    "from src.adversarial_contextual_mab import AdversarialContextualMAB\n",
    "\n",
    "# Display\n",
    "from src.display.display import plot_result"
   ]
  },
  {
   "cell_type": "code",
   "execution_count": 3,
   "id": "287e3a62-fdea-43a9-96ac-1a9249f8b31b",
   "metadata": {},
   "outputs": [
    {
     "ename": "TypeError",
     "evalue": "AdversarialContextualMAB.__init__() got an unexpected keyword argument 'agent'",
     "output_type": "error",
     "traceback": [
      "\u001b[31m---------------------------------------------------------------------------\u001b[39m",
      "\u001b[31mTypeError\u001b[39m                                 Traceback (most recent call last)",
      "\u001b[36mCell\u001b[39m\u001b[36m \u001b[39m\u001b[32mIn[3]\u001b[39m\u001b[32m, line 24\u001b[39m\n\u001b[32m     21\u001b[39m adv_env = AdversarialContextualEnv(adversary=adv, context=ctx)\n\u001b[32m     23\u001b[39m \u001b[38;5;66;03m# Init Experiment\u001b[39;00m\n\u001b[32m---> \u001b[39m\u001b[32m24\u001b[39m exp = \u001b[43mAdversarialContextualMAB\u001b[49m\u001b[43m(\u001b[49m\u001b[43magent\u001b[49m\u001b[43m=\u001b[49m\u001b[43mag\u001b[49m\u001b[43m,\u001b[49m\u001b[43m \u001b[49m\u001b[43menvironment\u001b[49m\u001b[43m=\u001b[49m\u001b[43madv_env\u001b[49m\u001b[43m,\u001b[49m\u001b[43m \u001b[49m\u001b[43mnum_sim\u001b[49m\u001b[43m=\u001b[49m\u001b[43mnum_sim\u001b[49m\u001b[43m,\u001b[49m\u001b[43m \u001b[49m\u001b[43mhorizon\u001b[49m\u001b[43m=\u001b[49m\u001b[43mh\u001b[49m\u001b[43m)\u001b[49m\n",
      "\u001b[31mTypeError\u001b[39m: AdversarialContextualMAB.__init__() got an unexpected keyword argument 'agent'"
     ]
    }
   ],
   "source": [
    "# Init vars\n",
    "K = 10\n",
    "h = 1000\n",
    "num_sim = 100\n",
    "num_ctx = 5\n",
    "num_ftrs = 3\n",
    "lr = 0.1\n",
    "exploration_rate = 0.1\n",
    "\n",
    "# Init Adversary\n",
    "adv = DeceptiveAdversary(K=K)\n",
    "\n",
    "# Init Context\n",
    "ctx = GaussianContext(n_contexts=num_ctx, n_arms=K, n_features=num_ftrs)\n",
    "\n",
    "# Init Agent\n",
    "sigma = ctx.estimate_sigma(n_samples=10000)\n",
    "ag = RobustLinExp3Agent(name=\"RobustLinExp3\", K=K, d=num_ftrs, sigma=sigma, eta=lr, gamma=exploration_rate)\n",
    "\n",
    "# Init Environment\n",
    "adv_env = AdversarialContextualEnv(adversary=adv, context=ctx)"
   ]
  },
  {
   "cell_type": "code",
   "execution_count": null,
   "id": "b9d0f5c2-7296-4d67-8cc8-575e178cf55b",
   "metadata": {},
   "outputs": [],
   "source": [
    "# Init Experiment\n",
    "exp = AdversarialContextualMAB()\n",
    "exp.play(agent=ag, environment=adv_env, num_sim=num_sim, horizon=h)"
   ]
  }
 ],
 "metadata": {
  "kernelspec": {
   "display_name": "Python 3 (ipykernel)",
   "language": "python",
   "name": "python3"
  },
  "language_info": {
   "codemirror_mode": {
    "name": "ipython",
    "version": 3
   },
   "file_extension": ".py",
   "mimetype": "text/x-python",
   "name": "python",
   "nbconvert_exporter": "python",
   "pygments_lexer": "ipython3",
   "version": "3.12.9"
  }
 },
 "nbformat": 4,
 "nbformat_minor": 5
}
